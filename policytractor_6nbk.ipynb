{
 "cells": [
  {
   "cell_type": "code",
   "execution_count": 1,
   "metadata": {},
   "outputs": [],
   "source": [
    "import boto3\n",
    "import argparse\n",
    "import time\n",
    "import os\n",
    "import trp\n",
    "import json\n",
    "import re\n",
    "import csv"
   ]
  },
  {
   "cell_type": "code",
   "execution_count": 2,
   "metadata": {},
   "outputs": [],
   "source": [
    "# In the python terminal\n",
    "#ap = argparse.ArgumentParser()\n",
    "#ap.add_argument(\"-a\", \"--file\", required=True,\n",
    "#   help=\"json file da analizare\")\n",
    "#nomefile = vars(ap.parse_args())\n",
    "#args = vars(ap.parse_args())\n",
    "#with open('{}'.format(nomefile['file']), 'r') as openfile:\n",
    "  \n",
    "    # Reading from json file\n",
    "#    json_object = json.load(openfile)\n",
    "  \n",
    "#response = list(json_object)"
   ]
  },
  {
   "cell_type": "code",
   "execution_count": 3,
   "metadata": {},
   "outputs": [],
   "source": [
    "# In jupiter notebook\n",
    "with open('genialloyd.json', 'r') as openfile:\n",
    "  \n",
    "# Reading from json file\n",
    "    json_object = json.load(openfile)\n",
    "  \n",
    "response = list(json_object)\n"
   ]
  },
  {
   "cell_type": "code",
   "execution_count": 4,
   "metadata": {},
   "outputs": [],
   "source": [
    "import csv\n",
    "with open('policytractormask.csv') as csvfile:\n",
    "    mask = list(csv.DictReader(csvfile))"
   ]
  },
  {
   "cell_type": "code",
   "execution_count": 5,
   "metadata": {},
   "outputs": [],
   "source": [
    "openfile.close()\n",
    "csvfile.close()"
   ]
  },
  {
   "cell_type": "markdown",
   "metadata": {},
   "source": [
    "# Estimate of inclination angle of pdf file"
   ]
  },
  {
   "cell_type": "code",
   "execution_count": 6,
   "metadata": {},
   "outputs": [],
   "source": [
    "# estimates the tangent of the angle starting from the y coordinate of two following words\n",
    "\n",
    "def inclination(rispostajson):\n",
    "    \n",
    "    for resultPage in response:\n",
    "        for i, item in enumerate(resultPage[\"Blocks\"]):\n",
    "            if item['BlockType']== 'LINE':\n",
    "                # look for a line with more than one word\n",
    "               findline = len (item['Text'].split())\n",
    "           \n",
    "               if findline >3:\n",
    "                    a = (item['Relationships'][0]['Ids'])\n",
    "                                          \n",
    "                \n",
    "                # exit cycle if line is  found\n",
    "                    break\n",
    "\n",
    "    inclinationcoord = {'left0': '', 'top0': '', 'left1': '', 'top1': ''}\n",
    "    \n",
    "    for resultPage in response:\n",
    "        for i, item in enumerate(resultPage[\"Blocks\"]):\n",
    "            if item['BlockType']== 'WORD':\n",
    "                if item['Id']== a[0]:\n",
    "                    inclinationcoord['left0'], inclinationcoord['top0'] = item['Geometry']['BoundingBox']['Left']+item['Geometry']['BoundingBox']['Width']/2, item['Geometry']['BoundingBox']['Top']\n",
    "                if item['Id']== a[len(a)-1]:\n",
    "                    inclinationcoord['left1'], inclinationcoord['top1'] = item['Geometry']['BoundingBox']['Left']+item['Geometry']['BoundingBox']['Width']/2, item['Geometry']['BoundingBox']['Top']\n",
    "    \n",
    "    \n",
    "    taninclination = (inclinationcoord['top1']-inclinationcoord['top0'])/(inclinationcoord['left1']-inclinationcoord['left0'])        \n",
    "    \n",
    "    return taninclination\n",
    "    "
   ]
  },
  {
   "cell_type": "code",
   "execution_count": 7,
   "metadata": {},
   "outputs": [],
   "source": [
    "taninclination = inclination(response)"
   ]
  },
  {
   "cell_type": "code",
   "execution_count": 8,
   "metadata": {},
   "outputs": [],
   "source": [
    "def ricalcolocoordy (dictcoordinates, taninclination):\n",
    "    for key, coordinates in dictcoordinates.items():\n",
    "        dictcoordinates[key] = (coordinates[0], coordinates[1]-coordinates[0]*taninclination)\n",
    "    return dictcoordinates"
   ]
  },
  {
   "cell_type": "markdown",
   "metadata": {},
   "source": [
    "# Generate full text of OCR from Json"
   ]
  },
  {
   "cell_type": "code",
   "execution_count": 9,
   "metadata": {},
   "outputs": [],
   "source": [
    "text = []\n",
    "for page, pageResult in enumerate(response):\n",
    "    for i, item in enumerate(pageResult[\"Blocks\"]):\n",
    "        if item[\"BlockType\"] == \"WORD\":\n",
    "            \n",
    "            text.append(item['Text'].lower())"
   ]
  },
  {
   "cell_type": "code",
   "execution_count": 10,
   "metadata": {
    "scrolled": true
   },
   "outputs": [],
   "source": [
    "companies = set(d['compagnia'] for d in mask)"
   ]
  },
  {
   "cell_type": "markdown",
   "metadata": {},
   "source": [
    "## Identify the company of the template"
   ]
  },
  {
   "cell_type": "code",
   "execution_count": 11,
   "metadata": {},
   "outputs": [],
   "source": [
    "d = dict()\n",
    "\n",
    "# calculate the frequency of the name of a certain insurance company in the text extracted by OCR\n",
    "for company in companies:\n",
    "\n",
    "    list_company = [w for w in text if w == company]\n",
    "    n_company = len(list_company)\n",
    "    d[company] = n_company"
   ]
  },
  {
   "cell_type": "code",
   "execution_count": 12,
   "metadata": {},
   "outputs": [],
   "source": [
    "# takes the most frequent company name as the name of the comapny to be used in the csv input mask\n",
    "dsorted = (sorted(d.items(), reverse=True, key = lambda kv:(kv[1], kv[0])))\n",
    "compagnia = dsorted[0][0]"
   ]
  },
  {
   "cell_type": "markdown",
   "metadata": {},
   "source": [
    "# Find the date of starting the policy and the expiration of the policy\n",
    "## In the future for additional templates, to be included the  regular expression for other date formats\n"
   ]
  },
  {
   "cell_type": "code",
   "execution_count": 14,
   "metadata": {},
   "outputs": [],
   "source": [
    "# a dictionary with dates and their coordinates is generated by the function \n",
    "def coord_date (jObjectResponse):\n",
    "\n",
    "\n",
    "    coord_date = {}\n",
    "\n",
    "    for resultPage in jObjectResponse:\n",
    "        for i, item in enumerate(resultPage[\"Blocks\"]):\n",
    "            if item[\"BlockType\"] == \"WORD\":\n",
    "            \n",
    "                m = re.search(r\"^(?P<day>[0-3]?[0-9])[/-](?P<month>[0-3]?[0-9])[/-](?:[0-9]{2})?(?P<year>[0-9]{2})[,.]?$\", item[\"Text\"])\n",
    "\n",
    "                if m is not None:\n",
    "                    if item[\"BlockType\"] == \"WORD\":\n",
    "                   \n",
    "                        coord_date [item[\"Page\"], i, item['Text']] = (item['Geometry']['BoundingBox']['Left']+item['Geometry']['BoundingBox']['Width']/2, item['Geometry']['BoundingBox']['Top'])\n",
    "\n",
    "# generato un dizionario in cui si riportano le date sul documento e le rispettive coordinate                    \n",
    "    return coord_date"
   ]
  },
  {
   "cell_type": "code",
   "execution_count": 15,
   "metadata": {},
   "outputs": [],
   "source": [
    "# per ogni data le parole chiave\n",
    "word_date =[]\n",
    "word_date = [d['data'] for d in mask if d['compagnia'] == compagnia and d['data']!='']"
   ]
  },
  {
   "cell_type": "code",
   "execution_count": 16,
   "metadata": {},
   "outputs": [],
   "source": [
    "# generiamo un dizionaio con le possibili descrizioni delle date e le loro coordinate \n",
    "def coord_keyworddate (keyword_date, jObjectResponse):\n",
    "\n",
    "    coord_keyworddate = {}\n",
    "\n",
    "    for resultPage in jObjectResponse:\n",
    "        for i, item in enumerate(resultPage[\"Blocks\"]):\n",
    "            if item[\"BlockType\"] == \"LINE\":\n",
    "                for keyword in keyword_date:\n",
    "                    m = re.search(keyword, item[\"Text\"])\n",
    "                    if m is not None:   \n",
    "                        coord_keyworddate [(item[\"Page\"], i, keyword)] =(item['Geometry']['BoundingBox']['Left']+item['Geometry']['BoundingBox']['Width']/2, item['Geometry']['BoundingBox']['Top'])\n",
    "\n",
    "# generato un dizionario in cui si riportano le date sul documento e le rispettive coordinate                    \n",
    "\n",
    "    return coord_keyworddate"
   ]
  },
  {
   "cell_type": "code",
   "execution_count": 17,
   "metadata": {},
   "outputs": [],
   "source": [
    "coord_date = coord_date (response)\n",
    "coord_keyworddate = coord_keyworddate (word_date, response)"
   ]
  },
  {
   "cell_type": "code",
   "execution_count": 18,
   "metadata": {},
   "outputs": [],
   "source": [
    "new_coord_keyworddate = ricalcolocoordy (coord_keyworddate, taninclination)\n",
    "new_coord_date = ricalcolocoordy (coord_date, taninclination)"
   ]
  },
  {
   "cell_type": "code",
   "execution_count": 19,
   "metadata": {
    "scrolled": true
   },
   "outputs": [
    {
     "name": "stdout",
     "output_type": "stream",
     "text": [
      "Valido fino al : 24/05/2020\n",
      "Decorrenza richiesta : 01/04/2020\n",
      "Scadenza : 01/04/2021\n"
     ]
    }
   ],
   "source": [
    "for descrdate, coorddescrdate in new_coord_keyworddate.items():\n",
    "    for date, coorddate in new_coord_date.items():\n",
    "        if abs((coorddescrdate[1] - coorddate[1]))<0.009:\n",
    "            if descrdate[0] == date[0]:\n",
    "                sottrazione = (coorddescrdate[1] - coorddate[1])\n",
    "                print(descrdate[2], \":\", date[2]) #, \":\", coorddate[1], sottrazione)\n",
    "            # una volta trovato un match di tipo valore (data in questo caso) e parola chiave, esce dal loop\n",
    "                break\n",
    "        # se non trova un valore alluineato, allora prova a verificare entro le due linee sottostanti\n",
    "        elif abs((coorddescrdate[0] - coorddate[0]))<0.05 and abs((coorddescrdate[1] - coorddate[1]))<0.030:\n",
    "            if descrdate[0] == date[0]:\n",
    "                sottrazione = (coorddescrdate[1] - coorddate[1])\n",
    "                print(descrdate[2], \":\", date[2]) #, \":\", coorddate[1], sottrazione)"
   ]
  },
  {
   "cell_type": "markdown",
   "metadata": {},
   "source": [
    "# Lista delle garanzie in base a compagnia"
   ]
  },
  {
   "cell_type": "code",
   "execution_count": 20,
   "metadata": {},
   "outputs": [],
   "source": [
    "garanzie = [d['garanzie'] for d in mask if d['compagnia'] == compagnia ]\n",
    "gminx = [d['minx'] for d in mask if d['compagnia'] == compagnia ]\n",
    "gmaxx = [d['maxx'] for d in mask if d['compagnia'] == compagnia ]\n",
    "coordlimitgaranzie = [d['deltaYgaranzie'] for d in mask if d['compagnia'] == compagnia and d['deltaYgaranzie']!='']\n"
   ]
  },
  {
   "cell_type": "markdown",
   "metadata": {},
   "source": [
    "# Dizionario delle aree della pagina dove si trovano i premi delle  garanzie"
   ]
  },
  {
   "cell_type": "code",
   "execution_count": 21,
   "metadata": {},
   "outputs": [
    {
     "data": {
      "text/plain": [
       "{\"Premio per l'annualità\": ('0.85', '0.95'),\n",
       " 'RC \\\\+ Assistenza Stradale': ('0.85', '0.95'),\n",
       " 'Bonus Protetto': ('0.85', '0.95'),\n",
       " '^Furto e Incendio': ('0.85', '0.95'),\n",
       " 'Estensioni': ('0.85', '0.95'),\n",
       " 'Eventi Naturali': ('0.85', '0.95'),\n",
       " 'Collisione con veicolo non identificato': ('0.85', '0.95'),\n",
       " 'Cristalli': ('0.85', '0.95'),\n",
       " 'Infortunio Guidatore': ('0.85', '0.95'),\n",
       " 'Assistenza Stradale Plus': ('0.85', '0.95'),\n",
       " 'Assistenza Stradale ZeroPensieri': ('0.85', '0.95'),\n",
       " 'Tutela Legale': ('0.85', '0.95'),\n",
       " 'Premi lordi': ('0.85', '0.95')}"
      ]
     },
     "execution_count": 21,
     "metadata": {},
     "output_type": "execute_result"
    }
   ],
   "source": [
    "dictgaranzie = {garanzie[i]: (gminx[i], gmaxx[i]) for i in range(len(garanzie))}\n",
    "dictgaranzie"
   ]
  },
  {
   "cell_type": "code",
   "execution_count": 22,
   "metadata": {},
   "outputs": [
    {
     "data": {
      "text/plain": [
       "list"
      ]
     },
     "execution_count": 22,
     "metadata": {},
     "output_type": "execute_result"
    }
   ],
   "source": [
    "# The jason repoonse generated by AWS is a list of json based on queue generated by the service>\n",
    "type(response)"
   ]
  },
  {
   "cell_type": "markdown",
   "metadata": {},
   "source": [
    "# Generiamo le coordinate delle garanzie in base al dizionario/ lista di garanzie"
   ]
  },
  {
   "cell_type": "code",
   "execution_count": 23,
   "metadata": {},
   "outputs": [],
   "source": [
    "def coordinategaranzie (garanzie, jObjectResponse):\n",
    "    \n",
    "    \n",
    "    guaranteecoord = {}\n",
    "    for garanzia in garanzie:\n",
    "            for resultPage in jObjectResponse:\n",
    "                for i, item in enumerate(resultPage[\"Blocks\"]):\n",
    "                    if item[\"BlockType\"] == \"LINE\":\n",
    "                    \n",
    "                        m = re.search(garanzia.lower(), item[\"Text\"].lower())\n",
    "                    \n",
    "                        if m is not None:  \n",
    "                                \n",
    "                    \n",
    "                                    guaranteecoord [item['Page'], garanzia] = (item['Geometry']['BoundingBox']['Left']+item['Geometry']['BoundingBox']['Width']/2, item['Geometry']['BoundingBox']['Top'])\n",
    "\n",
    "\n",
    "\n",
    "# generato un dizionario in cui si riportano le coordinate della garanzia esplorata                    \n",
    "    return guaranteecoord"
   ]
  },
  {
   "cell_type": "markdown",
   "metadata": {},
   "source": [
    "# Premi delle garanzie"
   ]
  },
  {
   "cell_type": "code",
   "execution_count": 24,
   "metadata": {},
   "outputs": [],
   "source": [
    "# generiamo un dizionaio con i premi e le loro coordinate \n",
    "def coordinatepremi (dizionariogaranzie, jObjectResponse):\n",
    "\n",
    "\n",
    "    premiumcoord = {}\n",
    "\n",
    "    for garanzia in dizionariogaranzie.keys(): \n",
    "        for resultPage in jObjectResponse:\n",
    "            for i, item in enumerate(resultPage[\"Blocks\"]):\n",
    "                if item[\"BlockType\"] == \"WORD\":\n",
    "            \n",
    "                    m = re.search(r'^[+-]?(\\d\\.)?[0-9]{1,3}[.,]+[0-9]{1,2}€?$', item[\"Text\"])\n",
    "\n",
    "                    if m is not None:\n",
    "                        if item[\"BlockType\"] == \"WORD\":\n",
    "                            if float(dizionariogaranzie[garanzia][0])<item[\"Geometry\"]['BoundingBox']['Left']<float(dizionariogaranzie[garanzia][1]):\n",
    "                   \n",
    "                                premiumcoord [item[\"Page\"], item['Text']] = (item['Geometry']['BoundingBox']['Left']+item['Geometry']['BoundingBox']['Width']/2, item['Geometry']['BoundingBox']['Top'])\n",
    "\n",
    "# generato un dizionario in cui si riportano le coordinate dei premi                    \n",
    "    return premiumcoord"
   ]
  },
  {
   "cell_type": "markdown",
   "metadata": {},
   "source": [
    "# Normalizziamo le coordinate degli elementi trovati"
   ]
  },
  {
   "cell_type": "code",
   "execution_count": 25,
   "metadata": {
    "scrolled": true
   },
   "outputs": [],
   "source": [
    "guaranteecoord = coordinategaranzie(dictgaranzie, response)\n",
    "premiumcoord = coordinatepremi(dictgaranzie, response)"
   ]
  },
  {
   "cell_type": "code",
   "execution_count": 26,
   "metadata": {},
   "outputs": [
    {
     "data": {
      "text/plain": [
       "{(1, \"Premio per l'annualità\"): (0.7384517788887024, 0.8903414011001587),\n",
       " (1, 'RC \\\\+ Assistenza Stradale'): (0.11429890617728233, 0.6828791499137878),\n",
       " (1, 'Bonus Protetto'): (0.1690422110259533, 0.7081286311149597),\n",
       " (1, '^Furto e Incendio'): (0.08743909746408463, 0.723648726940155),\n",
       " (1, 'Estensioni'): (0.14855100959539413, 0.7389119863510132),\n",
       " (1, 'Eventi Naturali'): (0.08146390318870544, 0.7544188499450684),\n",
       " (1, 'Collisione con veicolo non identificato'): (0.14942666888237,\n",
       "  0.7698591947555542),\n",
       " (1, 'Cristalli'): (0.06097473204135895, 0.7852249145507812),\n",
       " (1, 'Infortunio Guidatore'): (0.09634368494153023, 0.8006728887557983),\n",
       " (1, 'Assistenza Stradale Plus'): (0.10879578441381454, 0.8166330456733704),\n",
       " (1, 'Assistenza Stradale ZeroPensieri'): (0.1321399137377739,\n",
       "  0.831530749797821),\n",
       " (1, 'Tutela Legale'): (0.07534557580947876, 0.846922755241394),\n",
       " (1, 'Premi lordi'): (0.8935849033296108, 0.6553114652633667)}"
      ]
     },
     "execution_count": 26,
     "metadata": {},
     "output_type": "execute_result"
    }
   ],
   "source": [
    "guaranteecoord"
   ]
  },
  {
   "cell_type": "code",
   "execution_count": 27,
   "metadata": {},
   "outputs": [
    {
     "data": {
      "text/plain": [
       "{(1, '234,59'): (0.9204914066940546, 0.6866454482078552),\n",
       " (1, '0,00'): (0.9228635998442769, 0.7080795168876648),\n",
       " (1, '10,00'): (0.9205827005207539, 0.7226750254631042),\n",
       " (1, '141,03'): (0.9164853189140558, 0.7381691336631775),\n",
       " (1, '12,01'): (0.919026373885572, 0.7538179159164429),\n",
       " (1, '41,68'): (0.9183475933969021, 0.7692275643348694),\n",
       " (1, '31,60'): (0.9184201192110777, 0.7844710946083069),\n",
       " (1, '35,58'): (0.9176366990432143, 0.8000286817550659),\n",
       " (1, '24,51'): (0.9168690163642168, 0.8153876662254333),\n",
       " (1, '11,00'): (0.9170502321794629, 0.8302255868911743),\n",
       " (1, '8,00'): (0.9195563495159149, 0.8457632064819336),\n",
       " (1, '13,00'): (0.9161609038710594, 0.8613213896751404),\n",
       " (1, '563,00'): (0.913575004786253, 0.8951182961463928)}"
      ]
     },
     "execution_count": 27,
     "metadata": {},
     "output_type": "execute_result"
    }
   ],
   "source": [
    "premiumcoord"
   ]
  },
  {
   "cell_type": "code",
   "execution_count": 28,
   "metadata": {
    "scrolled": true
   },
   "outputs": [],
   "source": [
    "new_guaranteecoord = ricalcolocoordy (guaranteecoord, taninclination)\n",
    "new_premiumcoord = ricalcolocoordy (premiumcoord, taninclination)"
   ]
  },
  {
   "cell_type": "code",
   "execution_count": 29,
   "metadata": {},
   "outputs": [
    {
     "data": {
      "text/plain": [
       "{(1, \"Premio per l'annualità\"): (0.7384517788887024, 0.8762613488797191),\n",
       " (1, 'RC \\\\+ Assistenza Stradale'): (0.11429890617728233, 0.6806998138843762),\n",
       " (1, 'Bonus Protetto'): (0.1690422110259533, 0.7049055050737633),\n",
       " (1, '^Furto e Incendio'): (0.08743909746408463, 0.7219815265980349),\n",
       " (1, 'Estensioni'): (0.14855100959539413, 0.7360795658297303),\n",
       " (1, 'Eventi Naturali'): (0.08146390318870544, 0.7528655785686977),\n",
       " (1, 'Collisione con veicolo non identificato'): (0.14942666888237,\n",
       "  0.7670100780479523),\n",
       " (1, 'Cristalli'): (0.06097473204135895, 0.7840623099829357),\n",
       " (1, 'Infortunio Guidatore'): (0.09634368494153023, 0.7988359047388761),\n",
       " (1, 'Assistenza Stradale Plus'): (0.10879578441381454, 0.8145586376081403),\n",
       " (1, 'Assistenza Stradale ZeroPensieri'): (0.1321399137377739,\n",
       "  0.8290112394668524),\n",
       " (1, 'Tutela Legale'): (0.07534557580947876, 0.8454861419481428),\n",
       " (1, 'Premi lordi'): (0.8935849033296108, 0.6382734914078338)}"
      ]
     },
     "execution_count": 29,
     "metadata": {},
     "output_type": "execute_result"
    }
   ],
   "source": [
    "new_guaranteecoord"
   ]
  },
  {
   "cell_type": "code",
   "execution_count": 30,
   "metadata": {},
   "outputs": [
    {
     "data": {
      "text/plain": [
       "{(1, '234,59'): (0.9204914066940546, 0.6690944483386116),\n",
       " (1, '0,00'): (0.9228635998442769, 0.6904832864368357),\n",
       " (1, '10,00'): (0.9205827005207539, 0.7051222848954373),\n",
       " (1, '141,03'): (0.9164853189140558, 0.720694517827062),\n",
       " (1, '12,01'): (0.919026373885572, 0.7362948498121896),\n",
       " (1, '41,68'): (0.9183475933969021, 0.7517174405309801),\n",
       " (1, '31,60'): (0.9184201192110777, 0.7669595879554895),\n",
       " (1, '35,58'): (0.9176366990432143, 0.7825321125662635),\n",
       " (1, '24,51'): (0.9168690163642168, 0.7979057344341132),\n",
       " (1, '11,00'): (0.9170502321794629, 0.8127401998598307),\n",
       " (1, '8,00'): (0.9195563495159149, 0.8282300353379687),\n",
       " (1, '13,00'): (0.9161609038710594, 0.8438529594572021),\n",
       " (1, '563,00'): (0.913575004786253, 0.8776991712388238)}"
      ]
     },
     "execution_count": 30,
     "metadata": {},
     "output_type": "execute_result"
    }
   ],
   "source": [
    "new_premiumcoord"
   ]
  },
  {
   "cell_type": "markdown",
   "metadata": {},
   "source": [
    "# Stampiamo le garanzie e i relativi premi"
   ]
  },
  {
   "cell_type": "code",
   "execution_count": 46,
   "metadata": {},
   "outputs": [
    {
     "name": "stdout",
     "output_type": "stream",
     "text": [
      "Bonus Protetto : 10,00\n",
      "^Furto e Incendio : 141,03\n",
      "Estensioni : 12,01\n",
      "Eventi Naturali : 41,68\n",
      "Collisione con veicolo non identificato : 31,60\n",
      "Cristalli : 35,58\n",
      "Infortunio Guidatore : 24,51\n",
      "Assistenza Stradale Plus : 11,00\n",
      "Assistenza Stradale ZeroPensieri : 8,00\n",
      "Tutela Legale : 13,00\n",
      "Premio per l'annualità : 563,00\n"
     ]
    }
   ],
   "source": [
    "for premium, coordpremium in new_premiumcoord.items():\n",
    "    for guarantee, coordguarantee in new_guaranteecoord.items():\n",
    "        sottrazione = (coordguarantee[1] - coordpremium[1])\n",
    "        # controlla che sa stesso numero di pagina\n",
    "        if abs(coordguarantee[1] - coordpremium[1])<0.009 and guarantee[0] == premium[0]:\n",
    "            print(guarantee[1], \":\", premium[1]) #, \":\", coordpremium[1], sottrazione)\n",
    "        #    print('prima cnd vera')\n",
    "                        \n",
    "            \n",
    "        # se non trova un valore allineato, allora prova a verificare entro le due linee sottostanti\n",
    "        elif abs((coordguarantee[0] - coordpremium[0]))<0.05 and 0<(coordpremium[1]-coordguarantee[1])<float(coordlimitgaranzie[1]):\n",
    "                if guarantee[0] == premium[0]:\n",
    "                    sottrazione = (coordguarantee[1] - coordpremium[1])\n",
    "                    print(guarantee[1], \":\", premium[1]) #, \":\", coordpremium[1], sottrazione)\n",
    "#                    print('seconda cnd vera')"
   ]
  },
  {
   "cell_type": "code",
   "execution_count": null,
   "metadata": {},
   "outputs": [],
   "source": []
  }
 ],
 "metadata": {
  "kernelspec": {
   "display_name": "Python 3",
   "language": "python",
   "name": "python3"
  },
  "language_info": {
   "codemirror_mode": {
    "name": "ipython",
    "version": 3
   },
   "file_extension": ".py",
   "mimetype": "text/x-python",
   "name": "python",
   "nbconvert_exporter": "python",
   "pygments_lexer": "ipython3",
   "version": "3.7.4"
  }
 },
 "nbformat": 4,
 "nbformat_minor": 2
}
